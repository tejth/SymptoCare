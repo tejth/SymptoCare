{
 "cells": [
  {
   "cell_type": "markdown",
   "id": "85c2c51f-2965-4beb-a897-636a6ca3a2b0",
   "metadata": {},
   "source": [
    "Part 1"
   ]
  },
  {
   "cell_type": "code",
   "execution_count": 3,
   "id": "39dcff6f-b16d-447c-8634-d65769ed6dfb",
   "metadata": {},
   "outputs": [
    {
     "data": {
      "text/html": [
       "<div>\n",
       "<style scoped>\n",
       "    .dataframe tbody tr th:only-of-type {\n",
       "        vertical-align: middle;\n",
       "    }\n",
       "\n",
       "    .dataframe tbody tr th {\n",
       "        vertical-align: top;\n",
       "    }\n",
       "\n",
       "    .dataframe thead th {\n",
       "        text-align: right;\n",
       "    }\n",
       "</style>\n",
       "<table border=\"1\" class=\"dataframe\">\n",
       "  <thead>\n",
       "    <tr style=\"text-align: right;\">\n",
       "      <th></th>\n",
       "      <th>Years Experience</th>\n",
       "      <th>Employed?</th>\n",
       "      <th>Previous employers</th>\n",
       "      <th>Level of Education</th>\n",
       "      <th>Top-tier school</th>\n",
       "      <th>Interned</th>\n",
       "      <th>Hired</th>\n",
       "    </tr>\n",
       "  </thead>\n",
       "  <tbody>\n",
       "    <tr>\n",
       "      <th>0</th>\n",
       "      <td>10</td>\n",
       "      <td>Y</td>\n",
       "      <td>4</td>\n",
       "      <td>BS</td>\n",
       "      <td>N</td>\n",
       "      <td>N</td>\n",
       "      <td>Y</td>\n",
       "    </tr>\n",
       "    <tr>\n",
       "      <th>1</th>\n",
       "      <td>0</td>\n",
       "      <td>N</td>\n",
       "      <td>0</td>\n",
       "      <td>BS</td>\n",
       "      <td>Y</td>\n",
       "      <td>Y</td>\n",
       "      <td>Y</td>\n",
       "    </tr>\n",
       "    <tr>\n",
       "      <th>2</th>\n",
       "      <td>7</td>\n",
       "      <td>N</td>\n",
       "      <td>6</td>\n",
       "      <td>BS</td>\n",
       "      <td>N</td>\n",
       "      <td>N</td>\n",
       "      <td>N</td>\n",
       "    </tr>\n",
       "    <tr>\n",
       "      <th>3</th>\n",
       "      <td>2</td>\n",
       "      <td>Y</td>\n",
       "      <td>1</td>\n",
       "      <td>MS</td>\n",
       "      <td>Y</td>\n",
       "      <td>N</td>\n",
       "      <td>Y</td>\n",
       "    </tr>\n",
       "    <tr>\n",
       "      <th>4</th>\n",
       "      <td>20</td>\n",
       "      <td>N</td>\n",
       "      <td>2</td>\n",
       "      <td>PhD</td>\n",
       "      <td>Y</td>\n",
       "      <td>N</td>\n",
       "      <td>N</td>\n",
       "    </tr>\n",
       "  </tbody>\n",
       "</table>\n",
       "</div>"
      ],
      "text/plain": [
       "   Years Experience Employed?  Previous employers Level of Education  \\\n",
       "0                10         Y                   4                 BS   \n",
       "1                 0         N                   0                 BS   \n",
       "2                 7         N                   6                 BS   \n",
       "3                 2         Y                   1                 MS   \n",
       "4                20         N                   2                PhD   \n",
       "\n",
       "  Top-tier school Interned Hired  \n",
       "0               N        N     Y  \n",
       "1               Y        Y     Y  \n",
       "2               N        N     N  \n",
       "3               Y        N     Y  \n",
       "4               Y        N     N  "
      ]
     },
     "execution_count": 3,
     "metadata": {},
     "output_type": "execute_result"
    }
   ],
   "source": [
    "%matplotlib inline\n",
    "import pandas as pd \n",
    "import numpy as np \n",
    "df = pd.read_csv(\"pastHires.csv\") \n",
    "df.head(5)"
   ]
  },
  {
   "cell_type": "code",
   "execution_count": 4,
   "id": "90da892d-fbdc-4ee2-9c14-53a89c7b78a0",
   "metadata": {},
   "outputs": [
    {
     "data": {
      "text/html": [
       "<div>\n",
       "<style scoped>\n",
       "    .dataframe tbody tr th:only-of-type {\n",
       "        vertical-align: middle;\n",
       "    }\n",
       "\n",
       "    .dataframe tbody tr th {\n",
       "        vertical-align: top;\n",
       "    }\n",
       "\n",
       "    .dataframe thead th {\n",
       "        text-align: right;\n",
       "    }\n",
       "</style>\n",
       "<table border=\"1\" class=\"dataframe\">\n",
       "  <thead>\n",
       "    <tr style=\"text-align: right;\">\n",
       "      <th></th>\n",
       "      <th>Years Experience</th>\n",
       "      <th>Employed?</th>\n",
       "      <th>Previous employers</th>\n",
       "      <th>Level of Education</th>\n",
       "      <th>Top-tier school</th>\n",
       "      <th>Interned</th>\n",
       "      <th>Hired</th>\n",
       "    </tr>\n",
       "  </thead>\n",
       "  <tbody>\n",
       "    <tr>\n",
       "      <th>8</th>\n",
       "      <td>15</td>\n",
       "      <td>Y</td>\n",
       "      <td>5</td>\n",
       "      <td>BS</td>\n",
       "      <td>N</td>\n",
       "      <td>N</td>\n",
       "      <td>Y</td>\n",
       "    </tr>\n",
       "    <tr>\n",
       "      <th>9</th>\n",
       "      <td>0</td>\n",
       "      <td>N</td>\n",
       "      <td>0</td>\n",
       "      <td>BS</td>\n",
       "      <td>N</td>\n",
       "      <td>N</td>\n",
       "      <td>N</td>\n",
       "    </tr>\n",
       "    <tr>\n",
       "      <th>10</th>\n",
       "      <td>1</td>\n",
       "      <td>N</td>\n",
       "      <td>1</td>\n",
       "      <td>PhD</td>\n",
       "      <td>Y</td>\n",
       "      <td>N</td>\n",
       "      <td>N</td>\n",
       "    </tr>\n",
       "    <tr>\n",
       "      <th>11</th>\n",
       "      <td>4</td>\n",
       "      <td>Y</td>\n",
       "      <td>1</td>\n",
       "      <td>BS</td>\n",
       "      <td>N</td>\n",
       "      <td>Y</td>\n",
       "      <td>Y</td>\n",
       "    </tr>\n",
       "    <tr>\n",
       "      <th>12</th>\n",
       "      <td>0</td>\n",
       "      <td>N</td>\n",
       "      <td>0</td>\n",
       "      <td>PhD</td>\n",
       "      <td>Y</td>\n",
       "      <td>N</td>\n",
       "      <td>Y</td>\n",
       "    </tr>\n",
       "  </tbody>\n",
       "</table>\n",
       "</div>"
      ],
      "text/plain": [
       "    Years Experience Employed?  Previous employers Level of Education  \\\n",
       "8                 15         Y                   5                 BS   \n",
       "9                  0         N                   0                 BS   \n",
       "10                 1         N                   1                PhD   \n",
       "11                 4         Y                   1                 BS   \n",
       "12                 0         N                   0                PhD   \n",
       "\n",
       "   Top-tier school Interned Hired  \n",
       "8                N        N     Y  \n",
       "9                N        N     N  \n",
       "10               Y        N     N  \n",
       "11               N        Y     Y  \n",
       "12               Y        N     Y  "
      ]
     },
     "execution_count": 4,
     "metadata": {},
     "output_type": "execute_result"
    }
   ],
   "source": [
    "df.tail(5)"
   ]
  },
  {
   "cell_type": "code",
   "execution_count": 5,
   "id": "9d8cb258-7d30-4a93-8754-2d357e90bdaa",
   "metadata": {},
   "outputs": [
    {
     "data": {
      "text/plain": [
       "91"
      ]
     },
     "execution_count": 5,
     "metadata": {},
     "output_type": "execute_result"
    }
   ],
   "source": [
    "df.size"
   ]
  },
  {
   "cell_type": "code",
   "execution_count": 6,
   "id": "3ef710df-0b40-49cf-8e71-1d97ef1cdaf8",
   "metadata": {},
   "outputs": [
    {
     "data": {
      "text/plain": [
       "(13, 7)"
      ]
     },
     "execution_count": 6,
     "metadata": {},
     "output_type": "execute_result"
    }
   ],
   "source": [
    "df.shape"
   ]
  },
  {
   "cell_type": "code",
   "execution_count": 11,
   "id": "865c4097-710e-4897-8871-831159dfbf78",
   "metadata": {},
   "outputs": [
    {
     "data": {
      "text/plain": [
       "13"
      ]
     },
     "execution_count": 11,
     "metadata": {},
     "output_type": "execute_result"
    }
   ],
   "source": [
    "len(df)"
   ]
  },
  {
   "cell_type": "code",
   "execution_count": 13,
   "id": "1ce81ec9-9769-4f83-9f3e-89c8226d2a0b",
   "metadata": {},
   "outputs": [
    {
     "data": {
      "text/plain": [
       "0     Y\n",
       "1     Y\n",
       "2     N\n",
       "3     Y\n",
       "4     N\n",
       "5     Y\n",
       "6     Y\n",
       "7     Y\n",
       "8     Y\n",
       "9     N\n",
       "10    N\n",
       "11    Y\n",
       "12    Y\n",
       "Name: Hired, dtype: object"
      ]
     },
     "execution_count": 13,
     "metadata": {},
     "output_type": "execute_result"
    }
   ],
   "source": [
    "df['Hired']"
   ]
  },
  {
   "cell_type": "code",
   "execution_count": 15,
   "id": "c3f15088-e715-4181-a91d-dd0158e1640c",
   "metadata": {},
   "outputs": [
    {
     "data": {
      "text/plain": [
       "0    Y\n",
       "1    Y\n",
       "2    N\n",
       "3    Y\n",
       "4    N\n",
       "Name: Hired, dtype: object"
      ]
     },
     "execution_count": 15,
     "metadata": {},
     "output_type": "execute_result"
    }
   ],
   "source": [
    "df['Hired'][:5]"
   ]
  },
  {
   "cell_type": "code",
   "execution_count": 17,
   "id": "aa3ec9b2-5254-4108-9f3a-32e60f9b11ec",
   "metadata": {},
   "outputs": [
    {
     "data": {
      "text/html": [
       "<div>\n",
       "<style scoped>\n",
       "    .dataframe tbody tr th:only-of-type {\n",
       "        vertical-align: middle;\n",
       "    }\n",
       "\n",
       "    .dataframe tbody tr th {\n",
       "        vertical-align: top;\n",
       "    }\n",
       "\n",
       "    .dataframe thead th {\n",
       "        text-align: right;\n",
       "    }\n",
       "</style>\n",
       "<table border=\"1\" class=\"dataframe\">\n",
       "  <thead>\n",
       "    <tr style=\"text-align: right;\">\n",
       "      <th></th>\n",
       "      <th>Hired</th>\n",
       "      <th>Previous employers</th>\n",
       "    </tr>\n",
       "  </thead>\n",
       "  <tbody>\n",
       "    <tr>\n",
       "      <th>0</th>\n",
       "      <td>Y</td>\n",
       "      <td>4</td>\n",
       "    </tr>\n",
       "    <tr>\n",
       "      <th>1</th>\n",
       "      <td>Y</td>\n",
       "      <td>0</td>\n",
       "    </tr>\n",
       "    <tr>\n",
       "      <th>2</th>\n",
       "      <td>N</td>\n",
       "      <td>6</td>\n",
       "    </tr>\n",
       "    <tr>\n",
       "      <th>3</th>\n",
       "      <td>Y</td>\n",
       "      <td>1</td>\n",
       "    </tr>\n",
       "    <tr>\n",
       "      <th>4</th>\n",
       "      <td>N</td>\n",
       "      <td>2</td>\n",
       "    </tr>\n",
       "    <tr>\n",
       "      <th>5</th>\n",
       "      <td>Y</td>\n",
       "      <td>0</td>\n",
       "    </tr>\n",
       "    <tr>\n",
       "      <th>6</th>\n",
       "      <td>Y</td>\n",
       "      <td>2</td>\n",
       "    </tr>\n",
       "    <tr>\n",
       "      <th>7</th>\n",
       "      <td>Y</td>\n",
       "      <td>1</td>\n",
       "    </tr>\n",
       "    <tr>\n",
       "      <th>8</th>\n",
       "      <td>Y</td>\n",
       "      <td>5</td>\n",
       "    </tr>\n",
       "    <tr>\n",
       "      <th>9</th>\n",
       "      <td>N</td>\n",
       "      <td>0</td>\n",
       "    </tr>\n",
       "    <tr>\n",
       "      <th>10</th>\n",
       "      <td>N</td>\n",
       "      <td>1</td>\n",
       "    </tr>\n",
       "    <tr>\n",
       "      <th>11</th>\n",
       "      <td>Y</td>\n",
       "      <td>1</td>\n",
       "    </tr>\n",
       "    <tr>\n",
       "      <th>12</th>\n",
       "      <td>Y</td>\n",
       "      <td>0</td>\n",
       "    </tr>\n",
       "  </tbody>\n",
       "</table>\n",
       "</div>"
      ],
      "text/plain": [
       "   Hired  Previous employers\n",
       "0      Y                   4\n",
       "1      Y                   0\n",
       "2      N                   6\n",
       "3      Y                   1\n",
       "4      N                   2\n",
       "5      Y                   0\n",
       "6      Y                   2\n",
       "7      Y                   1\n",
       "8      Y                   5\n",
       "9      N                   0\n",
       "10     N                   1\n",
       "11     Y                   1\n",
       "12     Y                   0"
      ]
     },
     "execution_count": 17,
     "metadata": {},
     "output_type": "execute_result"
    }
   ],
   "source": [
    "df[['Hired','Previous employers']]"
   ]
  },
  {
   "cell_type": "code",
   "execution_count": 19,
   "id": "0ec99704-6548-457c-a0d6-abccc1403461",
   "metadata": {},
   "outputs": [
    {
     "data": {
      "text/html": [
       "<div>\n",
       "<style scoped>\n",
       "    .dataframe tbody tr th:only-of-type {\n",
       "        vertical-align: middle;\n",
       "    }\n",
       "\n",
       "    .dataframe tbody tr th {\n",
       "        vertical-align: top;\n",
       "    }\n",
       "\n",
       "    .dataframe thead th {\n",
       "        text-align: right;\n",
       "    }\n",
       "</style>\n",
       "<table border=\"1\" class=\"dataframe\">\n",
       "  <thead>\n",
       "    <tr style=\"text-align: right;\">\n",
       "      <th></th>\n",
       "      <th>Hired</th>\n",
       "      <th>Previous employers</th>\n",
       "    </tr>\n",
       "  </thead>\n",
       "  <tbody>\n",
       "    <tr>\n",
       "      <th>0</th>\n",
       "      <td>Y</td>\n",
       "      <td>4</td>\n",
       "    </tr>\n",
       "    <tr>\n",
       "      <th>1</th>\n",
       "      <td>Y</td>\n",
       "      <td>0</td>\n",
       "    </tr>\n",
       "    <tr>\n",
       "      <th>2</th>\n",
       "      <td>N</td>\n",
       "      <td>6</td>\n",
       "    </tr>\n",
       "    <tr>\n",
       "      <th>3</th>\n",
       "      <td>Y</td>\n",
       "      <td>1</td>\n",
       "    </tr>\n",
       "    <tr>\n",
       "      <th>4</th>\n",
       "      <td>N</td>\n",
       "      <td>2</td>\n",
       "    </tr>\n",
       "  </tbody>\n",
       "</table>\n",
       "</div>"
      ],
      "text/plain": [
       "  Hired  Previous employers\n",
       "0     Y                   4\n",
       "1     Y                   0\n",
       "2     N                   6\n",
       "3     Y                   1\n",
       "4     N                   2"
      ]
     },
     "execution_count": 19,
     "metadata": {},
     "output_type": "execute_result"
    }
   ],
   "source": [
    "df[['Hired','Previous employers']][:5]"
   ]
  },
  {
   "cell_type": "code",
   "execution_count": 21,
   "id": "75848664-df1e-40ac-979f-6c405eafaf2c",
   "metadata": {},
   "outputs": [
    {
     "name": "stdout",
     "output_type": "stream",
     "text": [
      "Hired\n",
      "Y    9\n",
      "N    4\n",
      "Name: count, dtype: int64\n"
     ]
    }
   ],
   "source": [
    "valuecount = df['Hired'].value_counts()\n",
    "print(valuecount)"
   ]
  },
  {
   "cell_type": "code",
   "execution_count": 23,
   "id": "21a889ce-550b-4c2b-af38-b133651d9fe5",
   "metadata": {},
   "outputs": [
    {
     "data": {
      "text/plain": [
       "<Axes: title={'center': 'Frequency of hiring'}, xlabel='Hired'>"
      ]
     },
     "execution_count": 23,
     "metadata": {},
     "output_type": "execute_result"
    },
    {
     "data": {
      "image/png": "[encoded data removed]",
      "text/plain": [
       "<Figure size 640x480 with 1 Axes>"
      ]
     },
     "metadata": {},
     "output_type": "display_data"
    }
   ],
   "source": [
    "valuecount.plot(kind=\"bar\",title=\"Frequency of hiring\")"
   ]
  },
  {
   "cell_type": "code",
   "execution_count": 24,
   "id": "9af6da00-15f3-4dae-ae95-1bbc97c60d0d",
   "metadata": {},
   "outputs": [
    {
     "data": {
      "text/plain": [
       "Index(['Years Experience', 'Employed?', 'Previous employers',\n",
       "       'Level of Education', 'Top-tier school', 'Interned', 'Hired'],\n",
       "      dtype='object')"
      ]
     },
     "execution_count": 24,
     "metadata": {},
     "output_type": "execute_result"
    }
   ],
   "source": [
    "df.columns"
   ]
  },
  {
   "cell_type": "code",
   "execution_count": 25,
   "id": "dc68d825-d337-4b94-ab68-5c5286cb69eb",
   "metadata": {},
   "outputs": [
    {
     "name": "stdout",
     "output_type": "stream",
     "text": [
      "    Previous employers Hired\n",
      "5                    0     Y\n",
      "6                    2     Y\n",
      "7                    1     Y\n",
      "8                    5     Y\n",
      "9                    0     N\n",
      "10                   1     N\n"
     ]
    }
   ],
   "source": [
    "new_dataframe = df[['Previous employers','Hired']][5:11]\n",
    "print(new_dataframe)"
   ]
  },
  {
   "cell_type": "code",
   "execution_count": 29,
   "id": "e819335d-aeb9-4928-b850-11c66efa6dae",
   "metadata": {},
   "outputs": [
    {
     "data": {
      "text/plain": [
       "<Axes: title={'center': 'Frequency of previous employers'}, xlabel='Previous employers'>"
      ]
     },
     "execution_count": 29,
     "metadata": {},
     "output_type": "execute_result"
    },
    {
     "data": {
      "image/png": "[encoded data removed]",
      "text/plain": [
       "<Figure size 640x480 with 1 Axes>"
      ]
     },
     "metadata": {},
     "output_type": "display_data"
    }
   ],
   "source": [
    "freq_count = new_dataframe['Previous employers'].value_counts()\n",
    "freq_count.plot(kind=\"bar\",title=\"Frequency of previous employers\")"
   ]
  },
  {
   "cell_type": "markdown",
   "id": "226da8e4-ba45-4ec9-99a1-8980bff89a55",
   "metadata": {},
   "source": [
    "Part 2"
   ]
  },
  {
   "cell_type": "code",
   "execution_count": 32,
   "id": "80519499-cf4c-414d-8311-7b1c4f2a9ae7",
   "metadata": {},
   "outputs": [
    {
     "name": "stdout",
     "output_type": "stream",
     "text": [
      "[602.45689491 615.58570277 598.46532502 568.93763379 621.13868594\n",
      " 618.32744056 597.32124614 593.01403898 621.45740906 543.87983783\n",
      " 600.17267097 614.9996295  578.54440672 600.29274713 588.52104554\n",
      " 620.75988184 588.72731923 618.15030491 634.77241441 604.27978513\n",
      " 620.68448837 600.41031491 596.38509064 585.13479438 608.49937915\n",
      " 586.85008417 593.33050982 632.6758082  590.27895114 590.37108103\n",
      " 619.39658257 639.70688386 586.44363375 579.82617284 609.43551315\n",
      " 607.03759442 613.21409084 605.60430001 612.21931764 603.21335439\n",
      " 610.3871544  592.44295445 637.48007438 590.65493802 579.73293163\n",
      " 638.0079155  585.10975143 621.67832019 549.12650303 649.01868876\n",
      " 579.37601616 594.73751264 577.53308787 610.43258994 610.15495715\n",
      " 582.80029255 626.83224028 569.04552849 623.60074264 585.2346428\n",
      " 613.35992668 621.98234637 586.58080568 590.04701337 591.57482626\n",
      " 605.01766385 589.18123699 596.72099042 574.5067329  595.21563001\n",
      " 618.20076648 600.54789798 624.15275926 624.21359909 609.35620831\n",
      " 619.17273113 607.54127635 606.54856018 621.19341247 578.93869914\n",
      " 581.55835364 584.12669067 583.99366867 608.05813442 609.87190126\n",
      " 587.17501549 613.40575662 641.51735155 591.62321164 572.43702049\n",
      " 627.70754406 606.51918296 596.83186247 594.72125378 606.937186\n",
      " 621.44647631 590.63515019 590.28635256 601.78066624 611.46775987]\n",
      "602.2006282977198\n",
      "ModeResult(mode=543.8798378311426, count=1)\n"
     ]
    }
   ],
   "source": [
    "from scipy import stats\n",
    "import matplotlib.pyplot as plt\n",
    "\n",
    "incomes = np.random.normal(600,20,100)\n",
    "print(incomes)\n",
    "print(np.mean(incomes))\n",
    "print(stats.mode(incomes))\n",
    "\n"
   ]
  },
  {
   "cell_type": "code",
   "execution_count": 33,
   "id": "f147d667-83f2-4ec4-834a-899e74066442",
   "metadata": {},
   "outputs": [
    {
     "name": "stdout",
     "output_type": "stream",
     "text": [
      "19.1960172645461\n",
      "368.48707882075195\n",
      "602.1187805751372\n"
     ]
    },
    {
     "data": {
      "image/png": "[encoded data removed]",
      "text/plain": [
       "<Figure size 640x480 with 1 Axes>"
      ]
     },
     "metadata": {},
     "output_type": "display_data"
    }
   ],
   "source": [
    "print(incomes.std())\n",
    "print(incomes.var())\n",
    "print(np.median(incomes))\n",
    "plt.hist(incomes,40)\n",
    "plt.show()"
   ]
  },
  {
   "cell_type": "markdown",
   "id": "afcbcfba-7ebd-4fe9-8fd9-73f1c71cd6ac",
   "metadata": {},
   "source": [
    "Part 3"
   ]
  },
  {
   "cell_type": "code",
   "execution_count": 35,
   "id": "484db88e-15f6-4f40-ac98-cb3d65d5fbcf",
   "metadata": {},
   "outputs": [
    {
     "data": {
      "text/plain": [
       "(array([1025., 1012., 1069.,  935., 1037.,  982.,  999., 1029.,  936.,\n",
       "         976.]),\n",
       " array([-9.99579946e+00, -7.99622951e+00, -5.99665955e+00, -3.99708960e+00,\n",
       "        -1.99751965e+00,  2.05030771e-03,  2.00162026e+00,  4.00119022e+00,\n",
       "         6.00076017e+00,  8.00033012e+00,  9.99990008e+00]),\n",
       " <BarContainer object of 10 artists>)"
      ]
     },
     "execution_count": 35,
     "metadata": {},
     "output_type": "execute_result"
    },
    {
     "data": {
      "image/png": "[encoded data removed]",
      "text/plain": [
       "<Figure size 640x480 with 1 Axes>"
      ]
     },
     "metadata": {},
     "output_type": "display_data"
    }
   ],
   "source": [
    "# uniform distribution\n",
    "uniform_distribution = np.random.uniform(-10,10,10000)\n",
    "plt.hist(uniform_distribution)"
   ]
  },
  {
   "cell_type": "code",
   "execution_count": 36,
   "id": "5e79365b-47c8-4f06-914b-972de70049fb",
   "metadata": {},
   "outputs": [
    {
     "data": {
      "text/plain": [
       "(array([  3.,  26.,  86., 184., 272., 223., 134.,  52.,  17.,   3.]),\n",
       " array([593.51395377, 594.8756398 , 596.23732582, 597.59901185,\n",
       "        598.96069787, 600.3223839 , 601.68406992, 603.04575595,\n",
       "        604.40744197, 605.769128  , 607.13081402]),\n",
       " <BarContainer object of 10 artists>)"
      ]
     },
     "execution_count": 36,
     "metadata": {},
     "output_type": "execute_result"
    },
    {
     "data": {
      "image/png": "[encoded data removed]",
      "text/plain": [
       "<Figure size 640x480 with 1 Axes>"
      ]
     },
     "metadata": {},
     "output_type": "display_data"
    }
   ],
   "source": [
    "#normal distribution\n",
    "normal_distribution = np.random.normal(600,2,1000)\n",
    "plt.hist(normal_distribution)"
   ]
  },
  {
   "cell_type": "code",
   "execution_count": 37,
   "id": "f78f1ce8-3f16-4100-ac1c-0a5f186783f6",
   "metadata": {},
   "outputs": [
    {
     "data": {
      "text/plain": [
       "[<matplotlib.lines.Line2D at 0x1dfa637e630>]"
      ]
     },
     "execution_count": 37,
     "metadata": {},
     "output_type": "execute_result"
    },
    {
     "data": {
      "image/png": "[encoded data removed]",
      "text/plain": [
       "<Figure size 640x480 with 1 Axes>"
      ]
     },
     "metadata": {},
     "output_type": "display_data"
    }
   ],
   "source": [
    "#another way for normal distribution\n",
    "from scipy.stats import norm\n",
    "normal_distributed_incomes = np.arange(-3,3,0.0001)\n",
    "plt.plot(normal_distributed_incomes , norm.pdf(normal_distributed_incomes))"
   ]
  },
  {
   "cell_type": "code",
   "execution_count": 38,
   "id": "ea693111-ff7a-4cc9-a0ea-146e29ddd5b2",
   "metadata": {},
   "outputs": [
    {
     "name": "stdout",
     "output_type": "stream",
     "text": [
      "[1.      1.00001 1.00002 ... 2.99997 2.99998 2.99999]\n"
     ]
    },
    {
     "data": {
      "text/plain": [
       "[<matplotlib.lines.Line2D at 0x1dfa75af2f0>]"
      ]
     },
     "execution_count": 38,
     "metadata": {},
     "output_type": "execute_result"
    },
    {
     "data": {
      "image/png": "[encoded data removed]",
      "text/plain": [
       "<Figure size 640x480 with 1 Axes>"
      ]
     },
     "metadata": {},
     "output_type": "display_data"
    }
   ],
   "source": [
    "#exponential distribution\n",
    "from scipy.stats import expon\n",
    "\n",
    "exponential_distribution = np.arange(1,3,0.00001)\n",
    "print(exponential_distribution)\n",
    "plt.plot(exponential_distribution,expon.pdf(exponential_distribution))"
   ]
  },
  {
   "cell_type": "code",
   "execution_count": 39,
   "id": "4d5e6b89-a216-4bd6-8d0c-51763fe1d61d",
   "metadata": {},
   "outputs": [
    {
     "data": {
      "text/plain": [
       "[<matplotlib.lines.Line2D at 0x1dfa7649a60>]"
      ]
     },
     "execution_count": 39,
     "metadata": {},
     "output_type": "execute_result"
    },
    {
     "data": {
      "image/png": "[encoded data removed]",
      "text/plain": [
       "<Figure size 640x480 with 1 Axes>"
      ]
     },
     "metadata": {},
     "output_type": "display_data"
    }
   ],
   "source": [
    "#mass function\n",
    "\n",
    "from scipy.stats import binom\n",
    "mass_distribution_values = np.arange(0,10,0.001)\n",
    "plt.plot(mass_distribution_values,binom.pmf(mass_distribution_values,10,0.5))"
   ]
  },
  {
   "cell_type": "markdown",
   "id": "c4368e5a-4477-412b-9833-dab055151ccc",
   "metadata": {},
   "source": [
    "Part 3"
   ]
  },
  {
   "cell_type": "code",
   "execution_count": 41,
   "id": "80d89676-6f0f-4438-893d-d47f45d7d487",
   "metadata": {},
   "outputs": [
    {
     "data": {
      "text/plain": [
       "(array([  7.,  26.,  79., 147., 237., 248., 162.,  74.,  14.,   6.]),\n",
       " array([-0.16304991, -0.13072175, -0.09839359, -0.06606543, -0.03373727,\n",
       "        -0.00140911,  0.03091906,  0.06324722,  0.09557538,  0.12790354,\n",
       "         0.1602317 ]),\n",
       " <BarContainer object of 10 artists>)"
      ]
     },
     "execution_count": 41,
     "metadata": {},
     "output_type": "execute_result"
    },
    {
     "data": {
      "image/png": "[encoded data removed]",
      "text/plain": [
       "<Figure size 640x480 with 1 Axes>"
      ]
     },
     "metadata": {},
     "output_type": "display_data"
    }
   ],
   "source": [
    "percentile_data = np.random.normal(0,0.05,1000)\n",
    "plt.hist(percentile_data)"
   ]
  },
  {
   "cell_type": "code",
   "execution_count": 42,
   "id": "1e922c0b-63ed-4028-97a3-79f08c5fdfca",
   "metadata": {},
   "outputs": [
    {
     "data": {
      "text/plain": [
       "-0.0009587106568018228"
      ]
     },
     "execution_count": 42,
     "metadata": {},
     "output_type": "execute_result"
    }
   ],
   "source": [
    "np.percentile(percentile_data,50)                                                                                                                                                                                                                                                                                                                                                                                                                                                                                                                                                                                                                                                                                                                                                                                                                                                                                                                                                                                                                                                                                                                                                                                                                                                                                                                                                                                                                                                                                                                                                                                                                                                                                                                                                                                                                                                                                                                                                                                                                                                                                                     "
   ]
  },
  {
   "cell_type": "code",
   "execution_count": 43,
   "id": "b81ccc9f-3f75-408f-bd6f-61b0da06e0e9",
   "metadata": {},
   "outputs": [
    {
     "data": {
      "text/plain": [
       "0.07723325902587463"
      ]
     },
     "execution_count": 43,
     "metadata": {},
     "output_type": "execute_result"
    }
   ],
   "source": [
    "import scipy.stats as sp\n",
    "sp.skew(percentile_data)\n",
    "sp.kurtosis(percentile_data)"
   ]
  },
  {
   "cell_type": "code",
   "execution_count": 114,
   "id": "f248b037-e9d7-402d-a2b3-68917d644839",
   "metadata": {},
   "outputs": [
    {
     "data": {
      "image/png": "[encoded data removed]",
      "text/plain": [
       "<Figure size 640x480 with 1 Axes>"
      ]
     },
     "metadata": {},
     "output_type": "display_data"
    },
    {
     "data": {
      "text/plain": [
       "<Figure size 640x480 with 0 Axes>"
      ]
     },
     "metadata": {},
     "output_type": "display_data"
    }
   ],
   "source": [
    "# LINE GRAPH\n",
    "line_data = np.arange(1,11,1)\n",
    "plt.plot(line_data,norm.pdf(line_data))                    \n",
    "\n",
    "#MULTI GRAPH\n",
    "plt.plot(line_data,norm.pdf(line_data,5,0.5))\n",
    "plt.show()                    \n",
    "\n",
    "#Saving figure\n",
    "plt.savefig(\"mydemo.png\",format=\"png\")"
   ]
  },
  {
   "cell_type": "code",
   "execution_count": 146,
   "id": "98407388-54ae-43c8-8eee-afa1f74cc579",
   "metadata": {},
   "outputs": [
    {
     "data": {
      "image/png": "[encoded data removed]",
      "text/plain": [
       "<Figure size 640x480 with 1 Axes>"
      ]
     },
     "metadata": {},
     "output_type": "display_data"
    }
   ],
   "source": [
    "#ADJUSTING AXES , Line Type and color , Labeling and Legend                                        \n",
    "  \n",
    "  \n",
    "axes = plt.axes()\n",
    "axes.set_xlim([1,12])\n",
    "axes.set_ylim([0.0,1.5])\n",
    "axes.set_xticks([2,2.5,4,4.5,6,6.5,8,8.5,10])\n",
    "plt.xlabel(\"words\")\n",
    "plt.ylabel(\"frequency\")\n",
    "plt.legend([\"F1\",\"F2\"],loc=4)\n",
    "axes.grid()                                                            \n",
    "plt.plot(line_data,norm.pdf(line_data),'r-')\n",
    "plt.plot(line_data,norm.pdf(line_data,5,0.5),'b--')\n",
    "plt.show()\n",
    "\n"
   ]
  },
  {
   "cell_type": "code",
   "execution_count": 169,
   "id": "f2889c25-66db-48e4-9355-50ea76e7370c",
   "metadata": {},
   "outputs": [
    {
     "ename": "TypeError",
     "evalue": "'list' object cannot be interpreted as an integer",
     "output_type": "error",
     "traceback": [
      "\u001b[1;31m---------------------------------------------------------------------------\u001b[0m",
      "\u001b[1;31mTypeError\u001b[0m                                 Traceback (most recent call last)",
      "Cell \u001b[1;32mIn[169], line 4\u001b[0m\n\u001b[0;32m      2\u001b[0m high \u001b[38;5;241m=\u001b[39m[\u001b[38;5;241m101\u001b[39m,\u001b[38;5;241m102\u001b[39m,\u001b[38;5;241m103\u001b[39m,\u001b[38;5;241m103.2\u001b[39m,\u001b[38;5;241m103.3\u001b[39m,\u001b[38;5;241m103.5\u001b[39m,\u001b[38;5;241m104\u001b[39m]\n\u001b[0;32m      3\u001b[0m low \u001b[38;5;241m=\u001b[39m[\u001b[38;5;241m1\u001b[39m,\u001b[38;5;241m1.2\u001b[39m,\u001b[38;5;241m1.3\u001b[39m,\u001b[38;5;241m1.4\u001b[39m,\u001b[38;5;241m2\u001b[39m,\u001b[38;5;241m2.5\u001b[39m,\u001b[38;5;241m3\u001b[39m,\u001b[38;5;241m3.5\u001b[39m,\u001b[38;5;241m4\u001b[39m,\u001b[38;5;241m4.5\u001b[39m,\u001b[38;5;241m4.6\u001b[39m]\n\u001b[1;32m----> 4\u001b[0m data \u001b[38;5;241m=\u001b[39m np\u001b[38;5;241m.\u001b[39mconcatenate(middle,high,low)\n\u001b[0;32m      5\u001b[0m plt\u001b[38;5;241m.\u001b[39mboxplot(data)\n\u001b[0;32m      6\u001b[0m plt\u001b[38;5;241m.\u001b[39mshow()\n",
      "\u001b[1;31mTypeError\u001b[0m: 'list' object cannot be interpreted as an integer"
     ]
    }
   ],
   "source": [
    "middle =[50,51,52,54,55.5,56,57,58.5,59,60]\n",
    "high =[101,102,103,103.2,103.3,103.5,104]\n",
    "low =[1,1.2,1.3,1.4,2,2.5,3,3.5,4,4.5,4.6]\n",
    "data = np.concatenate(middle,high,low)\n",
    "plt.boxplot(data)\n",
    "plt.show()"
   ]
  },
  {
   "cell_type": "code",
   "execution_count": null,
   "id": "2db37c18-8375-4f5c-8f87-fdba27e78f51",
   "metadata": {},
   "outputs": [],
   "source": []
  },
  {
   "cell_type": "code",
   "execution_count": null,
   "id": "d62c907c-76fe-4cba-8361-a9e5b895462d",
   "metadata": {},
   "outputs": [],
   "source": []
  },
  {
   "cell_type": "code",
   "execution_count": null,
   "id": "cb9f50df-e26c-40cb-9892-6d581149616f",
   "metadata": {},
   "outputs": [],
   "source": []
  },
  {
   "cell_type": "code",
   "execution_count": null,
   "id": "202ba96f-f3d7-483f-914f-35422c00290b",
   "metadata": {},
   "outputs": [],
   "source": []
  }
 ],
 "metadata": {
  "kernelspec": {
   "display_name": "Python 3 (ipykernel)",
   "language": "python",
   "name": "python3"
  },
  "language_info": {
   "codemirror_mode": {
    "name": "ipython",
    "version": 3
   },
   "file_extension": ".py",
   "mimetype": "text/x-python",
   "name": "python",
   "nbconvert_exporter": "python",
   "pygments_lexer": "ipython3",
   "version": "3.12.4"
  }
 },
 "nbformat": 4,
 "nbformat_minor": 5
}
