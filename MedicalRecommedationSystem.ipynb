{
 "cells": [
  {
   "cell_type": "markdown",
   "id": "5d1a2893-c1f4-4758-bf32-4839de4ae49e",
   "metadata": {},
   "source": [
    "# Title: Personalized Medical Recommendation System\n",
    "\n",
    "# Description:\n",
    "> Welcome to Personalized Medical Recommendation System , a powerful platform designed to assist users in understanding\n",
    "> and managing their health. The system analyzes user-inout symptoms to predict potential diseases accurately."
   ]
  },
  {
   "cell_type": "code",
   "execution_count": null,
   "id": "bba743bb-e009-4ac9-8e92-87a669979bb6",
   "metadata": {},
   "outputs": [],
   "source": [
    "# load dataset and tools"
   ]
  },
  {
   "cell_type": "code",
   "execution_count": 3,
   "id": "3417f531-571c-446b-bf0e-2d32047553df",
   "metadata": {},
   "outputs": [],
   "source": [
    "import pandas as pd"
   ]
  },
  {
   "cell_type": "code",
   "execution_count": 5,
   "id": "b1deca04-5ddc-4cca-85f1-fceb48fbb8ff",
   "metadata": {},
   "outputs": [],
   "source": [
    "dataset = pd.read_csv(\"Training.csv\")"
   ]
  },
  {
   "cell_type": "code",
   "execution_count": 7,
   "id": "8872415e-b000-4910-9f04-7abc95d08b6a",
   "metadata": {},
   "outputs": [
    {
     "data": {
      "text/html": [
       "<div>\n",
       "<style scoped>\n",
       "    .dataframe tbody tr th:only-of-type {\n",
       "        vertical-align: middle;\n",
       "    }\n",
       "\n",
       "    .dataframe tbody tr th {\n",
       "        vertical-align: top;\n",
       "    }\n",
       "\n",
       "    .dataframe thead th {\n",
       "        text-align: right;\n",
       "    }\n",
       "</style>\n",
       "<table border=\"1\" class=\"dataframe\">\n",
       "  <thead>\n",
       "    <tr style=\"text-align: right;\">\n",
       "      <th></th>\n",
       "      <th>itching</th>\n",
       "      <th>skin_rash</th>\n",
       "      <th>nodal_skin_eruptions</th>\n",
       "      <th>continuous_sneezing</th>\n",
       "      <th>shivering</th>\n",
       "      <th>chills</th>\n",
       "      <th>joint_pain</th>\n",
       "      <th>stomach_pain</th>\n",
       "      <th>acidity</th>\n",
       "      <th>ulcers_on_tongue</th>\n",
       "      <th>...</th>\n",
       "      <th>blackheads</th>\n",
       "      <th>scurring</th>\n",
       "      <th>skin_peeling</th>\n",
       "      <th>silver_like_dusting</th>\n",
       "      <th>small_dents_in_nails</th>\n",
       "      <th>inflammatory_nails</th>\n",
       "      <th>blister</th>\n",
       "      <th>red_sore_around_nose</th>\n",
       "      <th>yellow_crust_ooze</th>\n",
       "      <th>prognosis</th>\n",
       "    </tr>\n",
       "  </thead>\n",
       "  <tbody>\n",
       "    <tr>\n",
       "      <th>0</th>\n",
       "      <td>1</td>\n",
       "      <td>1</td>\n",
       "      <td>1</td>\n",
       "      <td>0</td>\n",
       "      <td>0</td>\n",
       "      <td>0</td>\n",
       "      <td>0</td>\n",
       "      <td>0</td>\n",
       "      <td>0</td>\n",
       "      <td>0</td>\n",
       "      <td>...</td>\n",
       "      <td>0</td>\n",
       "      <td>0</td>\n",
       "      <td>0</td>\n",
       "      <td>0</td>\n",
       "      <td>0</td>\n",
       "      <td>0</td>\n",
       "      <td>0</td>\n",
       "      <td>0</td>\n",
       "      <td>0</td>\n",
       "      <td>Fungal infection</td>\n",
       "    </tr>\n",
       "    <tr>\n",
       "      <th>1</th>\n",
       "      <td>0</td>\n",
       "      <td>1</td>\n",
       "      <td>1</td>\n",
       "      <td>0</td>\n",
       "      <td>0</td>\n",
       "      <td>0</td>\n",
       "      <td>0</td>\n",
       "      <td>0</td>\n",
       "      <td>0</td>\n",
       "      <td>0</td>\n",
       "      <td>...</td>\n",
       "      <td>0</td>\n",
       "      <td>0</td>\n",
       "      <td>0</td>\n",
       "      <td>0</td>\n",
       "      <td>0</td>\n",
       "      <td>0</td>\n",
       "      <td>0</td>\n",
       "      <td>0</td>\n",
       "      <td>0</td>\n",
       "      <td>Fungal infection</td>\n",
       "    </tr>\n",
       "    <tr>\n",
       "      <th>2</th>\n",
       "      <td>1</td>\n",
       "      <td>0</td>\n",
       "      <td>1</td>\n",
       "      <td>0</td>\n",
       "      <td>0</td>\n",
       "      <td>0</td>\n",
       "      <td>0</td>\n",
       "      <td>0</td>\n",
       "      <td>0</td>\n",
       "      <td>0</td>\n",
       "      <td>...</td>\n",
       "      <td>0</td>\n",
       "      <td>0</td>\n",
       "      <td>0</td>\n",
       "      <td>0</td>\n",
       "      <td>0</td>\n",
       "      <td>0</td>\n",
       "      <td>0</td>\n",
       "      <td>0</td>\n",
       "      <td>0</td>\n",
       "      <td>Fungal infection</td>\n",
       "    </tr>\n",
       "    <tr>\n",
       "      <th>3</th>\n",
       "      <td>1</td>\n",
       "      <td>1</td>\n",
       "      <td>0</td>\n",
       "      <td>0</td>\n",
       "      <td>0</td>\n",
       "      <td>0</td>\n",
       "      <td>0</td>\n",
       "      <td>0</td>\n",
       "      <td>0</td>\n",
       "      <td>0</td>\n",
       "      <td>...</td>\n",
       "      <td>0</td>\n",
       "      <td>0</td>\n",
       "      <td>0</td>\n",
       "      <td>0</td>\n",
       "      <td>0</td>\n",
       "      <td>0</td>\n",
       "      <td>0</td>\n",
       "      <td>0</td>\n",
       "      <td>0</td>\n",
       "      <td>Fungal infection</td>\n",
       "    </tr>\n",
       "    <tr>\n",
       "      <th>4</th>\n",
       "      <td>1</td>\n",
       "      <td>1</td>\n",
       "      <td>1</td>\n",
       "      <td>0</td>\n",
       "      <td>0</td>\n",
       "      <td>0</td>\n",
       "      <td>0</td>\n",
       "      <td>0</td>\n",
       "      <td>0</td>\n",
       "      <td>0</td>\n",
       "      <td>...</td>\n",
       "      <td>0</td>\n",
       "      <td>0</td>\n",
       "      <td>0</td>\n",
       "      <td>0</td>\n",
       "      <td>0</td>\n",
       "      <td>0</td>\n",
       "      <td>0</td>\n",
       "      <td>0</td>\n",
       "      <td>0</td>\n",
       "      <td>Fungal infection</td>\n",
       "    </tr>\n",
       "  </tbody>\n",
       "</table>\n",
       "<p>5 rows × 133 columns</p>\n",
       "</div>"
      ],
      "text/plain": [
       "   itching  skin_rash  nodal_skin_eruptions  continuous_sneezing  shivering  \\\n",
       "0        1          1                     1                    0          0   \n",
       "1        0          1                     1                    0          0   \n",
       "2        1          0                     1                    0          0   \n",
       "3        1          1                     0                    0          0   \n",
       "4        1          1                     1                    0          0   \n",
       "\n",
       "   chills  joint_pain  stomach_pain  acidity  ulcers_on_tongue  ...  \\\n",
       "0       0           0             0        0                 0  ...   \n",
       "1       0           0             0        0                 0  ...   \n",
       "2       0           0             0        0                 0  ...   \n",
       "3       0           0             0        0                 0  ...   \n",
       "4       0           0             0        0                 0  ...   \n",
       "\n",
       "   blackheads  scurring  skin_peeling  silver_like_dusting  \\\n",
       "0           0         0             0                    0   \n",
       "1           0         0             0                    0   \n",
       "2           0         0             0                    0   \n",
       "3           0         0             0                    0   \n",
       "4           0         0             0                    0   \n",
       "\n",
       "   small_dents_in_nails  inflammatory_nails  blister  red_sore_around_nose  \\\n",
       "0                     0                   0        0                     0   \n",
       "1                     0                   0        0                     0   \n",
       "2                     0                   0        0                     0   \n",
       "3                     0                   0        0                     0   \n",
       "4                     0                   0        0                     0   \n",
       "\n",
       "   yellow_crust_ooze         prognosis  \n",
       "0                  0  Fungal infection  \n",
       "1                  0  Fungal infection  \n",
       "2                  0  Fungal infection  \n",
       "3                  0  Fungal infection  \n",
       "4                  0  Fungal infection  \n",
       "\n",
       "[5 rows x 133 columns]"
      ]
     },
     "execution_count": 7,
     "metadata": {},
     "output_type": "execute_result"
    }
   ],
   "source": [
    "dataset.head()"
   ]
  },
  {
   "cell_type": "code",
   "execution_count": 9,
   "id": "a1cdb032-a3e7-42c9-9f67-2385fab293b3",
   "metadata": {},
   "outputs": [
    {
     "data": {
      "text/plain": [
       "(4920, 133)"
      ]
     },
     "execution_count": 9,
     "metadata": {},
     "output_type": "execute_result"
    }
   ],
   "source": [
    "dataset.shape"
   ]
  },
  {
   "cell_type": "code",
   "execution_count": 11,
   "id": "197ad9ce-a048-46ea-9c56-4decdb35fd4e",
   "metadata": {},
   "outputs": [
    {
     "data": {
      "text/plain": [
       "41"
      ]
     },
     "execution_count": 11,
     "metadata": {},
     "output_type": "execute_result"
    }
   ],
   "source": [
    "len(dataset['prognosis'].unique())                                                                                                                                                                                                        "
   ]
  },
  {
   "cell_type": "code",
   "execution_count": 13,
   "id": "9e426511-5548-42be-9906-0b6bc0675899",
   "metadata": {},
   "outputs": [
    {
     "data": {
      "text/plain": [
       "array(['Fungal infection', 'Allergy', 'GERD', 'Chronic cholestasis',\n",
       "       'Drug Reaction', 'Peptic ulcer diseae', 'AIDS', 'Diabetes ',\n",
       "       'Gastroenteritis', 'Bronchial Asthma', 'Hypertension ', 'Migraine',\n",
       "       'Cervical spondylosis', 'Paralysis (brain hemorrhage)', 'Jaundice',\n",
       "       'Malaria', 'Chicken pox', 'Dengue', 'Typhoid', 'hepatitis A',\n",
       "       'Hepatitis B', 'Hepatitis C', 'Hepatitis D', 'Hepatitis E',\n",
       "       'Alcoholic hepatitis', 'Tuberculosis', 'Common Cold', 'Pneumonia',\n",
       "       'Dimorphic hemmorhoids(piles)', 'Heart attack', 'Varicose veins',\n",
       "       'Hypothyroidism', 'Hyperthyroidism', 'Hypoglycemia',\n",
       "       'Osteoarthristis', 'Arthritis',\n",
       "       '(vertigo) Paroymsal  Positional Vertigo', 'Acne',\n",
       "       'Urinary tract infection', 'Psoriasis', 'Impetigo'], dtype=object)"
      ]
     },
     "execution_count": 13,
     "metadata": {},
     "output_type": "execute_result"
    }
   ],
   "source": [
    "dataset['prognosis'].unique()"
   ]
  },
  {
   "cell_type": "markdown",
   "id": "782463e4-aa3c-4dfc-b358-4897e006ae5b",
   "metadata": {},
   "source": [
    "# Train test Split"
   ]
  },
  {
   "cell_type": "code",
   "execution_count": 16,
   "id": "c57bd558-e79e-4162-8320-0de88c945fe8",
   "metadata": {},
   "outputs": [],
   "source": [
    "from sklearn.model_selection import train_test_split\n",
    "from sklearn.preprocessing import LabelEncoder                                                                                                              "
   ]
  },
  {
   "cell_type": "code",
   "execution_count": 17,
   "id": "7c032140-3fb6-4550-bd05-fcf06a933823",
   "metadata": {},
   "outputs": [],
   "source": [
    "X = dataset.drop(\"prognosis\",axis=1)\n",
    "y= dataset['prognosis']"
   ]
  },
  {
   "cell_type": "markdown",
   "id": "30ad54eb-72df-43e1-ad73-d077e85d20ca",
   "metadata": {},
   "source": [
    "> Encoding String to integer"
   ]
  },
  {
   "cell_type": "code",
   "execution_count": 21,
   "id": "7c6e68b9-1d77-4290-97ff-1af80b0e3a43",
   "metadata": {},
   "outputs": [],
   "source": [
    "le = LabelEncoder()\n",
    "le.fit(y)\n",
    "Y=le.transform(y)"
   ]
  },
  {
   "cell_type": "code",
   "execution_count": 23,
   "id": "379e11c4-4997-4d5e-a881-178df20fa50c",
   "metadata": {},
   "outputs": [
    {
     "data": {
      "text/plain": [
       "0                              Fungal infection\n",
       "1                              Fungal infection\n",
       "2                              Fungal infection\n",
       "3                              Fungal infection\n",
       "4                              Fungal infection\n",
       "                         ...                   \n",
       "4915    (vertigo) Paroymsal  Positional Vertigo\n",
       "4916                                       Acne\n",
       "4917                    Urinary tract infection\n",
       "4918                                  Psoriasis\n",
       "4919                                   Impetigo\n",
       "Name: prognosis, Length: 4920, dtype: object"
      ]
     },
     "execution_count": 23,
     "metadata": {},
     "output_type": "execute_result"
    }
   ],
   "source": [
    "y"
   ]
  },
  {
   "cell_type": "code",
   "execution_count": 25,
   "id": "f5d33d56-a0a9-4b56-9d2a-9bec299e084d",
   "metadata": {},
   "outputs": [
    {
     "data": {
      "text/plain": [
       "array([15, 15, 15, ..., 38, 35, 27])"
      ]
     },
     "execution_count": 25,
     "metadata": {},
     "output_type": "execute_result"
    }
   ],
   "source": [
    "Y"
   ]
  },
  {
   "cell_type": "markdown",
   "id": "8aeba61c-16df-4dcc-954d-59a2a42a7c14",
   "metadata": {},
   "source": [
    "> spliting dataset into four set , It will take all the input variables values from X AND PUT 70% OF data to X_train and                     \n",
    "> and remaining 30% will taken by X_test, Similary It will take all the input variables values from y AND PUT 70% OF data to y_train and                \n",
    "> and remaining 30% will taken by y_test\n",
    "  "
   ]
  },
  {
   "cell_type": "code",
   "execution_count": 28,
   "id": "f3dd91b8-d190-4657-992f-98148b93cfce",
   "metadata": {},
   "outputs": [],
   "source": [
    "X_train,X_test,y_train,y_test = train_test_split(X,Y,test_size=0.3 , random_state=20)"
   ]
  },
  {
   "cell_type": "code",
   "execution_count": 30,
   "id": "a987e7ab-55cb-43a2-9386-943eb3e04614",
   "metadata": {},
   "outputs": [
    {
     "data": {
      "text/plain": [
       "((3444, 132), (1476, 132), (3444,), (1476,))"
      ]
     },
     "execution_count": 30,
     "metadata": {},
     "output_type": "execute_result"
    }
   ],
   "source": [
    "X_train.shape,X_test.shape,y_train.shape,y_test.shape"
   ]
  },
  {
   "cell_type": "markdown",
   "id": "6cfc1988-c500-43f4-ba91-f0a71d011ba2",
   "metadata": {},
   "source": [
    "# Training top models"
   ]
  },
  {
   "cell_type": "code",
   "execution_count": null,
   "id": "e67a83c4-e172-40c1-a809-eec9375e0549",
   "metadata": {},
   "outputs": [],
   "source": [
    "from sklearn.datasets import make_classification\n",
    "from sklearn.model_selection import train_test_split\n",
    "from sklearn.svm import SVC\n",
    "from sklearn.ensemble import RandomForestClassifier, GradientBoostingClassifier\n",
    "from sklearn.neighbors import KNeighborsClassifier\n",
    "from sklearn.naive_bayes import MultinomialNB\n",
    "from sklearn.metrics import accuracy_score, confusion_matrix\n",
    "import numpy as np\n",
    "\n",
    "# create a dictionary  to store models\n",
    "models = {\"SVC\":SVC(kernel='linear') , \n",
    "          \"RandomForest\": RandomForestClassifier(n_estimators=100,random_state=42), \n",
    "          \"GrandientBoosting\":GradientBoostingClassifier(n_estimators=100,random_state=42),\n",
    "          \"KNeighbors\":KNeighborsClassifier(n_neighbors=5),\n",
    "          \"MultinomialNB\":MultinomialNB() }\n",
    "\n",
    "for model_name , model in models.items():\n",
    "    #train model\n",
    "    model.fit(X_train, y_train)\n",
    "    \n",
    "    #test model\n",
    "    predictions = model.predict(X_test)\n",
    "\n",
    "    #calculate accuracy\n",
    "    accuracy=accuracy_score(y_test,predictions)\n",
    "\n",
    "    #calculate confusion matrix\n",
    "    cm = confusion_matrix(y_test,predictions)\n",
    "\n",
    "    print(f\"{model_name} accuracy : {accuracy}\")      \n",
    "    print(f\"{model_name} Confusion Matrix : \")\n",
    "    print(np.array2string(cm,separator =\" ,\"))\n",
    "    \n",
    "                      \n",
    "                      \n",
    "  \n",
    "    "
   ]
  },
  {
   "cell_type": "markdown",
   "id": "ade01442-b9f8-457f-b763-e43181a0a2a8",
   "metadata": {},
   "source": [
    "<h1> Single Prediction </h1>\n"
   ]
  },
  {
   "cell_type": "code",
   "execution_count": 41,
   "id": "ab54a8ce-757d-43b6-8c5a-e7dcc692a786",
   "metadata": {},
   "outputs": [
    {
     "data": {
      "text/plain": [
       "1.0"
      ]
     },
     "execution_count": 41,
     "metadata": {},
     "output_type": "execute_result"
    }
   ],
   "source": [
    "svc  = SVC(kernel ='linear')\n",
    "svc.fit(X_train,y_train)\n",
    "ypred=svc.predict(X_test)\n",
    "accuracy_score(y_test,ypred)"
   ]
  },
  {
   "cell_type": "code",
   "execution_count": 43,
   "id": "a920e4bf-6693-475a-8a5f-409f4bfef2ac",
   "metadata": {},
   "outputs": [],
   "source": [
    "#saving model\n",
    "import pickle\n",
    "# pickle.dump(svc,open(\"models/svc.pkl\",\"wb\"))"
   ]
  },
  {
   "cell_type": "code",
   "execution_count": 45,
   "id": "82a4506f-e3d5-41fc-baf0-8f76084f1236",
   "metadata": {},
   "outputs": [],
   "source": [
    "#load model\n",
    "\n",
    "svc = pickle.load(open(\"models/svc.pkl\",'rb'))"
   ]
  },
  {
   "cell_type": "code",
   "execution_count": 47,
   "id": "61100021-0037-4b87-8658-c6cf8b0c2949",
   "metadata": {},
   "outputs": [
    {
     "name": "stderr",
     "output_type": "stream",
     "text": [
      "C:\\Users\\tejth\\anaconda3\\Lib\\site-packages\\sklearn\\base.py:493: UserWarning: X does not have valid feature names, but SVC was fitted with feature names\n",
      "  warnings.warn(\n"
     ]
    },
    {
     "data": {
      "text/plain": [
       "array([40])"
      ]
     },
     "execution_count": 47,
     "metadata": {},
     "output_type": "execute_result"
    }
   ],
   "source": [
    " # thew below code will return the value  of index associated with  a disease corresponding to a particular person\n",
    "svc.predict(X_test.iloc[0].values.reshape(1,-1))                    \n",
    "                      \n",
    "                      \n",
    "                      \n",
    "                      \n",
    "  "
   ]
  },
  {
   "cell_type": "code",
   "execution_count": 49,
   "id": "d16b312d-6569-4cf1-88d8-bd4f40a2af2c",
   "metadata": {},
   "outputs": [
    {
     "data": {
      "text/plain": [
       "40"
      ]
     },
     "execution_count": 49,
     "metadata": {},
     "output_type": "execute_result"
    }
   ],
   "source": [
    "# if y_test and x_test 0th index are same model is correct\n",
    "y_test[0]"
   ]
  },
  {
   "cell_type": "code",
   "execution_count": 55,
   "id": "c9aa7459-dd6b-42d6-a43e-c9d657b1867e",
   "metadata": {},
   "outputs": [
    {
     "name": "stdout",
     "output_type": "stream",
     "text": [
      "Predicted Label:  [40]\n",
      "Actual Label : 40\n"
     ]
    },
    {
     "name": "stderr",
     "output_type": "stream",
     "text": [
      "C:\\Users\\tejth\\anaconda3\\Lib\\site-packages\\sklearn\\base.py:493: UserWarning: X does not have valid feature names, but SVC was fitted with feature names\n",
      "  warnings.warn(\n"
     ]
    }
   ],
   "source": [
    "#test 1\n",
    "print(\"Predicted Label: \" ,svc.predict(X_test.iloc[0].values.reshape(1,-1)))\n",
    "print(\"Actual Label :\" , y_test[0])                    \n",
    "                      \n",
    "                      \n",
    "  \n"
   ]
  },
  {
   "cell_type": "code",
   "execution_count": 57,
   "id": "aa2acb0e-48b2-4eae-b5b9-d5c47b8cbd55",
   "metadata": {},
   "outputs": [
    {
     "name": "stdout",
     "output_type": "stream",
     "text": [
      "Predicted Label:  [20]\n",
      "Actual Label : 20\n"
     ]
    },
    {
     "name": "stderr",
     "output_type": "stream",
     "text": [
      "C:\\Users\\tejth\\anaconda3\\Lib\\site-packages\\sklearn\\base.py:493: UserWarning: X does not have valid feature names, but SVC was fitted with feature names\n",
      "  warnings.warn(\n"
     ]
    }
   ],
   "source": [
    "#test 2\n",
    "print(\"Predicted Label: \" ,svc.predict(X_test.iloc[10].values.reshape(1,-1)))  #10th index pe jo pure symptoms ka record hai uska disease predict kro\n",
    "print(\"Actual Label :\" , y_test[10])"
   ]
  },
  {
   "cell_type": "markdown",
   "id": "166c5052-6042-4147-937b-cb0452142e99",
   "metadata": {},
   "source": [
    "<h1>Recommendation System and prediction</h1>"
   ]
  },
  {
   "cell_type": "markdown",
   "id": "e2850e0b-7a68-4e52-8f04-cb7090e99ce3",
   "metadata": {},
   "source": [
    "<h2>load database and use logic for recommendations</h2>"
   ]
  },
  {
   "cell_type": "code",
   "execution_count": 81,
   "id": "05948cc6-07c5-41f5-80d2-d8e27eb535c6",
   "metadata": {},
   "outputs": [],
   "source": [
    "sym_des = pd.read_csv('datasets/symtoms_df.csv')\n",
    "precautions = pd.read_csv('datasets/precautions_df.csv')      \n",
    "workout = pd.read_csv('datasets/workout_df.csv')         \n",
    "description = pd.read_csv('datasets/description.csv')\n",
    "medication = pd.read_csv('datasets/medications.csv')\n",
    "diets = pd.read_csv('datasets/diets.csv')\n",
    "                      \n",
    "                      \n",
    "  \n",
    "                      \n",
    "                      \n",
    "#rememeber all the diseases are taken out from prognosis "
   ]
  },
  {
   "cell_type": "code",
   "execution_count": 85,
   "id": "c17d6e35-4f74-42c2-91b3-d7d039828197",
   "metadata": {},
   "outputs": [
    {
     "data": {
      "text/html": [
       "<div>\n",
       "<style scoped>\n",
       "    .dataframe tbody tr th:only-of-type {\n",
       "        vertical-align: middle;\n",
       "    }\n",
       "\n",
       "    .dataframe tbody tr th {\n",
       "        vertical-align: top;\n",
       "    }\n",
       "\n",
       "    .dataframe thead th {\n",
       "        text-align: right;\n",
       "    }\n",
       "</style>\n",
       "<table border=\"1\" class=\"dataframe\">\n",
       "  <thead>\n",
       "    <tr style=\"text-align: right;\">\n",
       "      <th></th>\n",
       "      <th>Disease</th>\n",
       "      <th>Diet</th>\n",
       "    </tr>\n",
       "  </thead>\n",
       "  <tbody>\n",
       "    <tr>\n",
       "      <th>0</th>\n",
       "      <td>Fungal infection</td>\n",
       "      <td>['Antifungal Diet', 'Probiotics', 'Garlic', 'C...</td>\n",
       "    </tr>\n",
       "    <tr>\n",
       "      <th>1</th>\n",
       "      <td>Allergy</td>\n",
       "      <td>['Elimination Diet', 'Omega-3-rich foods', 'Vi...</td>\n",
       "    </tr>\n",
       "    <tr>\n",
       "      <th>2</th>\n",
       "      <td>GERD</td>\n",
       "      <td>['Low-Acid Diet', 'Fiber-rich foods', 'Ginger'...</td>\n",
       "    </tr>\n",
       "    <tr>\n",
       "      <th>3</th>\n",
       "      <td>Chronic cholestasis</td>\n",
       "      <td>['Low-Fat Diet', 'High-Fiber Diet', 'Lean prot...</td>\n",
       "    </tr>\n",
       "    <tr>\n",
       "      <th>4</th>\n",
       "      <td>Drug Reaction</td>\n",
       "      <td>['Antihistamine Diet', 'Omega-3-rich foods', '...</td>\n",
       "    </tr>\n",
       "    <tr>\n",
       "      <th>5</th>\n",
       "      <td>Peptic ulcer disease</td>\n",
       "      <td>['Low-Acid Diet', 'Fiber-rich foods', 'Ginger'...</td>\n",
       "    </tr>\n",
       "    <tr>\n",
       "      <th>6</th>\n",
       "      <td>AIDS</td>\n",
       "      <td>['Balanced Diet', 'Protein-rich foods', 'Fruit...</td>\n",
       "    </tr>\n",
       "    <tr>\n",
       "      <th>7</th>\n",
       "      <td>Diabetes</td>\n",
       "      <td>['Low-Glycemic Diet', 'Fiber-rich foods', 'Lea...</td>\n",
       "    </tr>\n",
       "    <tr>\n",
       "      <th>8</th>\n",
       "      <td>Gastroenteritis</td>\n",
       "      <td>['Bland Diet', 'Bananas', 'Rice', 'Applesauce'...</td>\n",
       "    </tr>\n",
       "    <tr>\n",
       "      <th>9</th>\n",
       "      <td>Bronchial Asthma</td>\n",
       "      <td>['Anti-Inflammatory Diet', 'Omega-3-rich foods...</td>\n",
       "    </tr>\n",
       "    <tr>\n",
       "      <th>10</th>\n",
       "      <td>Hypertension</td>\n",
       "      <td>['DASH Diet', 'Low-sodium foods', 'Fruits and ...</td>\n",
       "    </tr>\n",
       "    <tr>\n",
       "      <th>11</th>\n",
       "      <td>Migraine</td>\n",
       "      <td>['Migraine Diet', 'Low-Tyramine Diet', 'Caffei...</td>\n",
       "    </tr>\n",
       "    <tr>\n",
       "      <th>12</th>\n",
       "      <td>Cervical spondylosis</td>\n",
       "      <td>['Arthritis Diet', 'Anti-Inflammatory Diet', '...</td>\n",
       "    </tr>\n",
       "    <tr>\n",
       "      <th>13</th>\n",
       "      <td>Paralysis (brain hemorrhage)</td>\n",
       "      <td>['Heart-Healthy Diet', 'Low-sodium foods', 'Fr...</td>\n",
       "    </tr>\n",
       "    <tr>\n",
       "      <th>14</th>\n",
       "      <td>Jaundice</td>\n",
       "      <td>['Liver-Healthy Diet', 'Low-fat Diet', 'Fruits...</td>\n",
       "    </tr>\n",
       "    <tr>\n",
       "      <th>15</th>\n",
       "      <td>Malaria</td>\n",
       "      <td>['Malaria Diet', 'Hydration', 'High-Calorie Di...</td>\n",
       "    </tr>\n",
       "    <tr>\n",
       "      <th>16</th>\n",
       "      <td>Chicken pox</td>\n",
       "      <td>['Chicken Pox Diet', 'High-Calorie Diet', 'Sof...</td>\n",
       "    </tr>\n",
       "    <tr>\n",
       "      <th>17</th>\n",
       "      <td>Dengue</td>\n",
       "      <td>['Dengue Diet', 'Hydration', 'High-Calorie Die...</td>\n",
       "    </tr>\n",
       "    <tr>\n",
       "      <th>18</th>\n",
       "      <td>Typhoid</td>\n",
       "      <td>['Typhoid Diet', 'High-Calorie Diet', 'Soft an...</td>\n",
       "    </tr>\n",
       "    <tr>\n",
       "      <th>19</th>\n",
       "      <td>hepatitis A</td>\n",
       "      <td>['Hepatitis A Diet', 'High-Calorie Diet', 'Sof...</td>\n",
       "    </tr>\n",
       "    <tr>\n",
       "      <th>20</th>\n",
       "      <td>Hepatitis B</td>\n",
       "      <td>['Hepatitis B Diet', 'High-Calorie Diet', 'Sof...</td>\n",
       "    </tr>\n",
       "    <tr>\n",
       "      <th>21</th>\n",
       "      <td>Hepatitis C</td>\n",
       "      <td>['Hepatitis C Diet', 'High-Calorie Diet', 'Sof...</td>\n",
       "    </tr>\n",
       "    <tr>\n",
       "      <th>22</th>\n",
       "      <td>Hepatitis D</td>\n",
       "      <td>['Hepatitis D Diet', 'High-Calorie Diet', 'Sof...</td>\n",
       "    </tr>\n",
       "    <tr>\n",
       "      <th>23</th>\n",
       "      <td>Hepatitis E</td>\n",
       "      <td>['Hepatitis E Diet', 'High-Calorie Diet', 'Sof...</td>\n",
       "    </tr>\n",
       "    <tr>\n",
       "      <th>24</th>\n",
       "      <td>Alcoholic hepatitis</td>\n",
       "      <td>['Liver-Healthy Diet', 'Low-fat Diet', 'Fruits...</td>\n",
       "    </tr>\n",
       "    <tr>\n",
       "      <th>25</th>\n",
       "      <td>Tuberculosis</td>\n",
       "      <td>['TB Diet', 'High-Calorie Diet', 'Soft and bla...</td>\n",
       "    </tr>\n",
       "    <tr>\n",
       "      <th>26</th>\n",
       "      <td>Common Cold</td>\n",
       "      <td>['Cold Diet', 'Hydration', 'Warm fluids', 'Res...</td>\n",
       "    </tr>\n",
       "    <tr>\n",
       "      <th>27</th>\n",
       "      <td>Pneumonia</td>\n",
       "      <td>['Pneumonia Diet', 'High-Calorie Diet', 'Soft ...</td>\n",
       "    </tr>\n",
       "    <tr>\n",
       "      <th>28</th>\n",
       "      <td>Dimorphic hemmorhoids(piles)</td>\n",
       "      <td>['Hemorrhoids Diet', 'High-Fiber Diet', 'Hydra...</td>\n",
       "    </tr>\n",
       "    <tr>\n",
       "      <th>29</th>\n",
       "      <td>Heart attack</td>\n",
       "      <td>['Heart-Healthy Diet', 'Low-sodium foods', 'Fr...</td>\n",
       "    </tr>\n",
       "    <tr>\n",
       "      <th>30</th>\n",
       "      <td>Varicose veins</td>\n",
       "      <td>['Varicose Veins Diet', 'High-Fiber Diet', 'Fr...</td>\n",
       "    </tr>\n",
       "    <tr>\n",
       "      <th>31</th>\n",
       "      <td>Hypothyroidism</td>\n",
       "      <td>['Hypothyroidism Diet', 'Iodine-rich foods', '...</td>\n",
       "    </tr>\n",
       "    <tr>\n",
       "      <th>32</th>\n",
       "      <td>Hyperthyroidism</td>\n",
       "      <td>['Hyperthyroidism Diet', 'Low-Iodine Diet', 'C...</td>\n",
       "    </tr>\n",
       "    <tr>\n",
       "      <th>33</th>\n",
       "      <td>Hypoglycemia</td>\n",
       "      <td>['Hypoglycemia Diet', 'Complex carbohydrates',...</td>\n",
       "    </tr>\n",
       "    <tr>\n",
       "      <th>34</th>\n",
       "      <td>Osteoarthristis</td>\n",
       "      <td>['Arthritis Diet', 'Anti-Inflammatory Diet', '...</td>\n",
       "    </tr>\n",
       "    <tr>\n",
       "      <th>35</th>\n",
       "      <td>Arthritis</td>\n",
       "      <td>['Arthritis Diet', 'Anti-Inflammatory Diet', '...</td>\n",
       "    </tr>\n",
       "    <tr>\n",
       "      <th>36</th>\n",
       "      <td>(vertigo) Paroymsal Positional Vertigo</td>\n",
       "      <td>['Vertigo Diet', 'Low-Salt Diet', 'Hydration',...</td>\n",
       "    </tr>\n",
       "    <tr>\n",
       "      <th>37</th>\n",
       "      <td>Acne</td>\n",
       "      <td>['Acne Diet', 'Low-Glycemic Diet', 'Hydration'...</td>\n",
       "    </tr>\n",
       "    <tr>\n",
       "      <th>38</th>\n",
       "      <td>Urinary tract infection</td>\n",
       "      <td>['UTI Diet', 'Hydration', 'Cranberry juice', '...</td>\n",
       "    </tr>\n",
       "    <tr>\n",
       "      <th>39</th>\n",
       "      <td>Psoriasis</td>\n",
       "      <td>['Psoriasis Diet', 'Anti-Inflammatory Diet', '...</td>\n",
       "    </tr>\n",
       "    <tr>\n",
       "      <th>40</th>\n",
       "      <td>Impetigo</td>\n",
       "      <td>['Impetigo Diet', 'Antibiotic treatment', 'Fru...</td>\n",
       "    </tr>\n",
       "  </tbody>\n",
       "</table>\n",
       "</div>"
      ],
      "text/plain": [
       "                                   Disease  \\\n",
       "0                         Fungal infection   \n",
       "1                                  Allergy   \n",
       "2                                     GERD   \n",
       "3                      Chronic cholestasis   \n",
       "4                            Drug Reaction   \n",
       "5                     Peptic ulcer disease   \n",
       "6                                     AIDS   \n",
       "7                                 Diabetes   \n",
       "8                          Gastroenteritis   \n",
       "9                         Bronchial Asthma   \n",
       "10                            Hypertension   \n",
       "11                                Migraine   \n",
       "12                    Cervical spondylosis   \n",
       "13            Paralysis (brain hemorrhage)   \n",
       "14                                Jaundice   \n",
       "15                                 Malaria   \n",
       "16                             Chicken pox   \n",
       "17                                  Dengue   \n",
       "18                                 Typhoid   \n",
       "19                             hepatitis A   \n",
       "20                             Hepatitis B   \n",
       "21                             Hepatitis C   \n",
       "22                             Hepatitis D   \n",
       "23                             Hepatitis E   \n",
       "24                     Alcoholic hepatitis   \n",
       "25                            Tuberculosis   \n",
       "26                             Common Cold   \n",
       "27                               Pneumonia   \n",
       "28            Dimorphic hemmorhoids(piles)   \n",
       "29                            Heart attack   \n",
       "30                          Varicose veins   \n",
       "31                          Hypothyroidism   \n",
       "32                         Hyperthyroidism   \n",
       "33                            Hypoglycemia   \n",
       "34                         Osteoarthristis   \n",
       "35                               Arthritis   \n",
       "36  (vertigo) Paroymsal Positional Vertigo   \n",
       "37                                    Acne   \n",
       "38                 Urinary tract infection   \n",
       "39                               Psoriasis   \n",
       "40                                Impetigo   \n",
       "\n",
       "                                                 Diet  \n",
       "0   ['Antifungal Diet', 'Probiotics', 'Garlic', 'C...  \n",
       "1   ['Elimination Diet', 'Omega-3-rich foods', 'Vi...  \n",
       "2   ['Low-Acid Diet', 'Fiber-rich foods', 'Ginger'...  \n",
       "3   ['Low-Fat Diet', 'High-Fiber Diet', 'Lean prot...  \n",
       "4   ['Antihistamine Diet', 'Omega-3-rich foods', '...  \n",
       "5   ['Low-Acid Diet', 'Fiber-rich foods', 'Ginger'...  \n",
       "6   ['Balanced Diet', 'Protein-rich foods', 'Fruit...  \n",
       "7   ['Low-Glycemic Diet', 'Fiber-rich foods', 'Lea...  \n",
       "8   ['Bland Diet', 'Bananas', 'Rice', 'Applesauce'...  \n",
       "9   ['Anti-Inflammatory Diet', 'Omega-3-rich foods...  \n",
       "10  ['DASH Diet', 'Low-sodium foods', 'Fruits and ...  \n",
       "11  ['Migraine Diet', 'Low-Tyramine Diet', 'Caffei...  \n",
       "12  ['Arthritis Diet', 'Anti-Inflammatory Diet', '...  \n",
       "13  ['Heart-Healthy Diet', 'Low-sodium foods', 'Fr...  \n",
       "14  ['Liver-Healthy Diet', 'Low-fat Diet', 'Fruits...  \n",
       "15  ['Malaria Diet', 'Hydration', 'High-Calorie Di...  \n",
       "16  ['Chicken Pox Diet', 'High-Calorie Diet', 'Sof...  \n",
       "17  ['Dengue Diet', 'Hydration', 'High-Calorie Die...  \n",
       "18  ['Typhoid Diet', 'High-Calorie Diet', 'Soft an...  \n",
       "19  ['Hepatitis A Diet', 'High-Calorie Diet', 'Sof...  \n",
       "20  ['Hepatitis B Diet', 'High-Calorie Diet', 'Sof...  \n",
       "21  ['Hepatitis C Diet', 'High-Calorie Diet', 'Sof...  \n",
       "22  ['Hepatitis D Diet', 'High-Calorie Diet', 'Sof...  \n",
       "23  ['Hepatitis E Diet', 'High-Calorie Diet', 'Sof...  \n",
       "24  ['Liver-Healthy Diet', 'Low-fat Diet', 'Fruits...  \n",
       "25  ['TB Diet', 'High-Calorie Diet', 'Soft and bla...  \n",
       "26  ['Cold Diet', 'Hydration', 'Warm fluids', 'Res...  \n",
       "27  ['Pneumonia Diet', 'High-Calorie Diet', 'Soft ...  \n",
       "28  ['Hemorrhoids Diet', 'High-Fiber Diet', 'Hydra...  \n",
       "29  ['Heart-Healthy Diet', 'Low-sodium foods', 'Fr...  \n",
       "30  ['Varicose Veins Diet', 'High-Fiber Diet', 'Fr...  \n",
       "31  ['Hypothyroidism Diet', 'Iodine-rich foods', '...  \n",
       "32  ['Hyperthyroidism Diet', 'Low-Iodine Diet', 'C...  \n",
       "33  ['Hypoglycemia Diet', 'Complex carbohydrates',...  \n",
       "34  ['Arthritis Diet', 'Anti-Inflammatory Diet', '...  \n",
       "35  ['Arthritis Diet', 'Anti-Inflammatory Diet', '...  \n",
       "36  ['Vertigo Diet', 'Low-Salt Diet', 'Hydration',...  \n",
       "37  ['Acne Diet', 'Low-Glycemic Diet', 'Hydration'...  \n",
       "38  ['UTI Diet', 'Hydration', 'Cranberry juice', '...  \n",
       "39  ['Psoriasis Diet', 'Anti-Inflammatory Diet', '...  \n",
       "40  ['Impetigo Diet', 'Antibiotic treatment', 'Fru...  "
      ]
     },
     "execution_count": 85,
     "metadata": {},
     "output_type": "execute_result"
    }
   ],
   "source": [
    "diets"
   ]
  },
  {
   "cell_type": "code",
   "execution_count": null,
   "id": "16d40e67-fa93-4dd9-b66f-6169371fe3ca",
   "metadata": {},
   "outputs": [],
   "source": []
  }
 ],
 "metadata": {
  "kernelspec": {
   "display_name": "Python 3 (ipykernel)",
   "language": "python",
   "name": "python3"
  },
  "language_info": {
   "codemirror_mode": {
    "name": "ipython",
    "version": 3
   },
   "file_extension": ".py",
   "mimetype": "text/x-python",
   "name": "python",
   "nbconvert_exporter": "python",
   "pygments_lexer": "ipython3",
   "version": "3.12.4"
  }
 },
 "nbformat": 4,
 "nbformat_minor": 5
}
